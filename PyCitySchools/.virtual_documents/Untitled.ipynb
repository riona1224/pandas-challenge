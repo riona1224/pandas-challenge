import pandas as pd
# Dependencies and Setup
from pathlib import Path

# File to Load (Remember to Change These)
school_data_to_load = Path("Resources/schools_complete.csv")
student_data_to_load = Path("Resources/students_complete.csv")



